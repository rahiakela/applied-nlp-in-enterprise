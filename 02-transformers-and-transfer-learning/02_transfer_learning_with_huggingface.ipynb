{
  "nbformat": 4,
  "nbformat_minor": 0,
  "metadata": {
    "colab": {
      "name": "02-transfer-learning-with-huggingface.ipynb",
      "provenance": [],
      "toc_visible": true,
      "authorship_tag": "ABX9TyO1Nny9QMFOA/LJf5CQQtCU",
      "include_colab_link": true
    },
    "kernelspec": {
      "name": "python3",
      "display_name": "Python 3"
    },
    "language_info": {
      "name": "python"
    }
  },
  "cells": [
    {
      "cell_type": "markdown",
      "metadata": {
        "id": "view-in-github",
        "colab_type": "text"
      },
      "source": [
        "<a href=\"https://colab.research.google.com/github/rahiakela/applied-nlp-in-enterprise/blob/main/02-transformers-and-transfer-learning/02_transfer_learning_with_huggingface.ipynb\" target=\"_parent\"><img src=\"https://colab.research.google.com/assets/colab-badge.svg\" alt=\"Open In Colab\"/></a>"
      ]
    },
    {
      "cell_type": "markdown",
      "metadata": {
        "id": "a74DsZ1a_r0D"
      },
      "source": [
        "## Inference with Huggingface"
      ]
    },
    {
      "cell_type": "markdown",
      "metadata": {
        "id": "7eZB3XCW_spm"
      },
      "source": [
        "Now that we know how to train language models, we could conceptually train a very, very large one on a lot of data, and get it to produce very accurate sounding text. \n",
        "\n",
        "Here, we'll use the huggingface library to get prediction samples from a language model that was trained using a procedure similar to the one we used above."
      ]
    },
    {
      "cell_type": "markdown",
      "metadata": {
        "id": "inlMTWtn_3wy"
      },
      "source": [
        "##Setup"
      ]
    },
    {
      "cell_type": "code",
      "metadata": {
        "id": "rf6oqYz2_23w"
      },
      "source": [
        "pip -q install transformers"
      ],
      "execution_count": null,
      "outputs": []
    },
    {
      "cell_type": "code",
      "metadata": {
        "id": "wMvxpFKU_8XU"
      },
      "source": [
        "import torch\n",
        "from transformers import GPT2Tokenizer, GPT2LMHeadModel"
      ],
      "execution_count": null,
      "outputs": []
    },
    {
      "cell_type": "markdown",
      "metadata": {
        "id": "QAb87G9nAGH1"
      },
      "source": [
        "## Huggingface's GPT-2"
      ]
    },
    {
      "cell_type": "markdown",
      "metadata": {
        "id": "rUIjVSy5AcgO"
      },
      "source": [
        ""
      ]
    }
  ]
}